{
 "cells": [
  {
   "cell_type": "code",
   "execution_count": 1,
   "metadata": {},
   "outputs": [
    {
     "name": "stdout",
     "output_type": "stream",
     "text": [
      "2.5.1\n"
     ]
    }
   ],
   "source": [
    "import torch\n",
    "\n",
    "print(torch.__version__)"
   ]
  },
  {
   "cell_type": "code",
   "execution_count": 13,
   "metadata": {},
   "outputs": [
    {
     "name": "stdout",
     "output_type": "stream",
     "text": [
      "Requirement already satisfied: torch_geometric in c:\\users\\sokur\\.conda\\envs\\ml39\\lib\\site-packages (2.6.1)\n",
      "Requirement already satisfied: aiohttp in c:\\users\\sokur\\.conda\\envs\\ml39\\lib\\site-packages (from torch_geometric) (3.11.14)\n",
      "Requirement already satisfied: fsspec in c:\\users\\sokur\\.conda\\envs\\ml39\\lib\\site-packages (from torch_geometric) (2025.3.0)\n",
      "Requirement already satisfied: jinja2 in c:\\users\\sokur\\.conda\\envs\\ml39\\lib\\site-packages (from torch_geometric) (3.1.4)\n",
      "Requirement already satisfied: numpy in c:\\users\\sokur\\.conda\\envs\\ml39\\lib\\site-packages (from torch_geometric) (2.0.2)\n",
      "Requirement already satisfied: psutil>=5.8.0 in c:\\users\\sokur\\.conda\\envs\\ml39\\lib\\site-packages (from torch_geometric) (5.9.0)\n",
      "Requirement already satisfied: pyparsing in c:\\users\\sokur\\.conda\\envs\\ml39\\lib\\site-packages (from torch_geometric) (3.2.1)\n",
      "Requirement already satisfied: requests in c:\\users\\sokur\\.conda\\envs\\ml39\\lib\\site-packages (from torch_geometric) (2.32.3)\n",
      "Requirement already satisfied: tqdm in c:\\users\\sokur\\.conda\\envs\\ml39\\lib\\site-packages (from torch_geometric) (4.67.1)\n",
      "Requirement already satisfied: aiohappyeyeballs>=2.3.0 in c:\\users\\sokur\\.conda\\envs\\ml39\\lib\\site-packages (from aiohttp->torch_geometric) (2.6.1)\n",
      "Requirement already satisfied: aiosignal>=1.1.2 in c:\\users\\sokur\\.conda\\envs\\ml39\\lib\\site-packages (from aiohttp->torch_geometric) (1.3.2)\n",
      "Requirement already satisfied: async-timeout<6.0,>=4.0 in c:\\users\\sokur\\.conda\\envs\\ml39\\lib\\site-packages (from aiohttp->torch_geometric) (5.0.1)\n",
      "Requirement already satisfied: attrs>=17.3.0 in c:\\users\\sokur\\.conda\\envs\\ml39\\lib\\site-packages (from aiohttp->torch_geometric) (25.3.0)\n",
      "Requirement already satisfied: frozenlist>=1.1.1 in c:\\users\\sokur\\.conda\\envs\\ml39\\lib\\site-packages (from aiohttp->torch_geometric) (1.5.0)\n",
      "Requirement already satisfied: multidict<7.0,>=4.5 in c:\\users\\sokur\\.conda\\envs\\ml39\\lib\\site-packages (from aiohttp->torch_geometric) (6.2.0)\n",
      "Requirement already satisfied: propcache>=0.2.0 in c:\\users\\sokur\\.conda\\envs\\ml39\\lib\\site-packages (from aiohttp->torch_geometric) (0.3.1)\n",
      "Requirement already satisfied: yarl<2.0,>=1.17.0 in c:\\users\\sokur\\.conda\\envs\\ml39\\lib\\site-packages (from aiohttp->torch_geometric) (1.18.3)\n",
      "Requirement already satisfied: MarkupSafe>=2.0 in c:\\users\\sokur\\.conda\\envs\\ml39\\lib\\site-packages (from jinja2->torch_geometric) (2.1.3)\n",
      "Requirement already satisfied: charset-normalizer<4,>=2 in c:\\users\\sokur\\.conda\\envs\\ml39\\lib\\site-packages (from requests->torch_geometric) (3.3.2)\n",
      "Requirement already satisfied: idna<4,>=2.5 in c:\\users\\sokur\\.conda\\envs\\ml39\\lib\\site-packages (from requests->torch_geometric) (3.7)\n",
      "Requirement already satisfied: urllib3<3,>=1.21.1 in c:\\users\\sokur\\.conda\\envs\\ml39\\lib\\site-packages (from requests->torch_geometric) (2.2.3)\n",
      "Requirement already satisfied: certifi>=2017.4.17 in c:\\users\\sokur\\.conda\\envs\\ml39\\lib\\site-packages (from requests->torch_geometric) (2024.8.30)\n",
      "Requirement already satisfied: colorama in c:\\users\\sokur\\.conda\\envs\\ml39\\lib\\site-packages (from tqdm->torch_geometric) (0.4.6)\n",
      "Requirement already satisfied: typing-extensions>=4.1.0 in c:\\users\\sokur\\.conda\\envs\\ml39\\lib\\site-packages (from multidict<7.0,>=4.5->aiohttp->torch_geometric) (4.11.0)\n",
      "Note: you may need to restart the kernel to use updated packages.\n"
     ]
    }
   ],
   "source": [
    "pip install torch_geometric"
   ]
  },
  {
   "cell_type": "markdown",
   "metadata": {},
   "source": [
    "# Классификация графов с использованием графовых нейронных сетей\n",
    "\n",
    "Нам предоставляется набор данных с множеством графов и, в данном примере, необходимо их линейно разделить:\n",
    "\n",
    "![linear_separability](linear_separability.png)\n",
    "\n",
    "Классификация графов часто используется в задаче предсказания свойств молекул по её форме, представленной в виде графа, и необходимо определить, подавляет ли молекула ВИЧ или нет. \n",
    "\n",
    "В данной работе используется датасет MUTAG. MUTAG Dataset — это коллекция нитроароматических соединений, цель которой — предсказать их мутагенность на Salmonella typhimurium. В наборе представлены химические соединения в виде графов, где вершины соответствуют атомам, а рёбра между вершинами — связям между соответствующими атомами. Импортируем его и считаем характеристики:"
   ]
  },
  {
   "cell_type": "code",
   "execution_count": 2,
   "metadata": {},
   "outputs": [
    {
     "name": "stdout",
     "output_type": "stream",
     "text": [
      "Датасет : MUTAG(188)\n",
      "=============================\n",
      "Количество графов: 188\n",
      "Количество классов: 2\n",
      "\n",
      "Первый граф: Data(edge_index=[2, 38], x=[17, 7], edge_attr=[38, 4], y=[1])\n",
      "=============================\n",
      "Количество узлов: 17\n",
      "Количество ребер: 38\n",
      "Среднее количество рёбер у узла: 2.24\n",
      "Количество атрибутов узлов: 7\n",
      "Количество атрибутов рёбер: 4\n",
      "Есть изолированные узлы: False\n",
      "Есть циклы: False\n",
      "Направленный: False\n"
     ]
    }
   ],
   "source": [
    "import torch\n",
    "from torch_geometric.datasets import TUDataset\n",
    "\n",
    "dataset = TUDataset(root='data/TUDataset', name='MUTAG')\n",
    "\n",
    "print(f'Датасет : {dataset}')\n",
    "print('=============================')\n",
    "print(f'Количество графов: {len(dataset)}')\n",
    "print(f'Количество классов: {dataset.num_classes}')\n",
    "\n",
    "\n",
    "data = dataset[0]\n",
    "print()\n",
    "print(f'Первый граф: {data}')\n",
    "print('=============================')\n",
    "\n",
    "# Информация о первом графе\n",
    "print(f'Количество узлов: {data.num_nodes}')\n",
    "print(f'Количество ребер: {data.num_edges}')\n",
    "print(f'Среднее количество рёбер у узла: {data.num_edges / data.num_nodes:.2f}')\n",
    "print(f'Количество атрибутов узлов: {data.num_node_features}')\n",
    "print(f'Количество атрибутов рёбер: {data.num_edge_features}')\n",
    "print(f'Есть изолированные узлы: {data.has_isolated_nodes()}')\n",
    "print(f'Есть циклы: {data.has_self_loops()}')\n",
    "print(f'Направленный: {data.is_directed()}')"
   ]
  },
  {
   "cell_type": "markdown",
   "metadata": {},
   "source": [
    "В данном датасете у нас имеется 188 разных графов, принадлежащих только ко двум классам. \n",
    "\n",
    "В первом графе датасета у нас имеется 7 узлов с 7 аттрибутами (features), и 38 рёбер с 4 аттрибутами каждое. Также у него имеется только 1 метка класса (`y=[1]`). "
   ]
  },
  {
   "cell_type": "code",
   "execution_count": 3,
   "metadata": {},
   "outputs": [
    {
     "name": "stdout",
     "output_type": "stream",
     "text": [
      "Количество графов в тренировочной выборке: 150\n",
      "Количество графов в тестовой выборке: 38\n"
     ]
    }
   ],
   "source": [
    "torch.manual_seed(42)\n",
    "dataset = dataset.shuffle()\n",
    "\n",
    "train_dataset = dataset[:150]\n",
    "test_dataset = dataset[150:]\n",
    "\n",
    "print(f'Количество графов в тренировочной выборке: {len(train_dataset)}')\n",
    "print(f'Количество графов в тестовой выборке: {len(test_dataset)}')"
   ]
  },
  {
   "cell_type": "markdown",
   "metadata": {},
   "source": [
    "Поскольку графы в данном наборе по своим размерам невелики, было бы правильным решением сформировать batch из них, перед тем как обучать GNN, чтобы использовать GPU полностью. В задачах обработки изображений или текста, батчи формируются изменяя форму матрицы (rescaling) или добавляя отступ (padding), чтобы привести каждый пример к одинаковой форме, а затем добавляется дополнительное измерение, где эти примеры группируются. Длина этого измерения равняется количеству примеров в батче и обычно обозначается как `batch_size`. \n",
    "\n",
    "Однако для графов эти подходы не подойдут, или подойдут, но приведут к чрезмерному использованию памяти. Поэтому, PyTorch Geometric использует другой подход. В этом подходе матрицы смежости (adjacency matrix) группируются по диагонали, как бы создавая один большой граф, состоящий из нескольких подграфов, а признаки узлов и целевые метки просто конкатенируются по размерности узлов. \n",
    "\n",
    "![batch_forming](batch_forming.png)\n",
    "\n",
    "У этой процедуры есть 2 основных достоинства: \n",
    "1. Операторы GNN, основанные на message passing не требуют модификации, поскольку сообщения не передаются между узлами, принадлежащим разным графам.\n",
    "2. Отсутствуют лишние затраты по памяти, поскольку матрицы смежности (adjacency matrix) хранятся в разреженном формате, содержащем только ненулевые элементы."
   ]
  },
  {
   "cell_type": "code",
   "execution_count": 7,
   "metadata": {},
   "outputs": [
    {
     "name": "stdout",
     "output_type": "stream",
     "text": [
      "Шаг 1\n",
      "-----------------------------\n",
      "Количество графов в данном батче: 64\n",
      "DataBatch(edge_index=[2, 2462], x=[1125, 7], edge_attr=[2462, 4], y=[64], batch=[1125], ptr=[65])\n",
      "\n",
      "Шаг 2\n",
      "-----------------------------\n",
      "Количество графов в данном батче: 64\n",
      "DataBatch(edge_index=[2, 2664], x=[1194, 7], edge_attr=[2664, 4], y=[64], batch=[1194], ptr=[65])\n",
      "\n",
      "Шаг 3\n",
      "-----------------------------\n",
      "Количество графов в данном батче: 22\n",
      "DataBatch(edge_index=[2, 850], x=[384, 7], edge_attr=[850, 4], y=[22], batch=[384], ptr=[23])\n",
      "\n"
     ]
    }
   ],
   "source": [
    "from torch_geometric.loader import DataLoader\n",
    "\n",
    "train_loader = DataLoader(train_dataset, batch_size=64, shuffle = True)\n",
    "test_loader = DataLoader(test_dataset, batch_size=64, shuffle = False)\n",
    "\n",
    "for step, data in enumerate(train_loader):\n",
    "    print(f'Шаг {step + 1}')\n",
    "    print('-----------------------------')\n",
    "    print(f'Количество графов в данном батче: {data.num_graphs}')\n",
    "    print(data)\n",
    "    print()\n"
   ]
  },
  {
   "cell_type": "markdown",
   "metadata": {},
   "source": [
    "Получили 3 батча, 2 по 64 графа и один 22 (итого 150, вся выборка). Каждый `batch` объект сопровождается `batch` вектором, который сопоставляет каждому узлу его граф в батче."
   ]
  },
  {
   "cell_type": "markdown",
   "metadata": {},
   "source": [
    "# Обучение графовой нейронной сети (GNN)\n",
    "\n",
    "\n",
    "\n",
    "1. Закодировать узел "
   ]
  },
  {
   "cell_type": "markdown",
   "metadata": {},
   "source": []
  }
 ],
 "metadata": {
  "kernelspec": {
   "display_name": "ml39",
   "language": "python",
   "name": "python3"
  },
  "language_info": {
   "codemirror_mode": {
    "name": "ipython",
    "version": 3
   },
   "file_extension": ".py",
   "mimetype": "text/x-python",
   "name": "python",
   "nbconvert_exporter": "python",
   "pygments_lexer": "ipython3",
   "version": "3.9.20"
  }
 },
 "nbformat": 4,
 "nbformat_minor": 2
}
